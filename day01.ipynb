{
 "cells": [
  {
   "cell_type": "code",
   "execution_count": 1,
   "metadata": {},
   "outputs": [
    {
     "data": {
      "text/plain": [
       "1000"
      ]
     },
     "execution_count": 1,
     "metadata": {},
     "output_type": "execute_result"
    }
   ],
   "source": [
    "with open('inputs/day01.txt') as f:\n",
    "    data = f.read().splitlines()\n",
    "len(data)"
   ]
  },
  {
   "cell_type": "code",
   "execution_count": 7,
   "metadata": {},
   "outputs": [
    {
     "data": {
      "text/plain": [
       "53921"
      ]
     },
     "execution_count": 7,
     "metadata": {},
     "output_type": "execute_result"
    }
   ],
   "source": [
    "summed = 0\n",
    "for line in data:\n",
    "    if not line:\n",
    "        continue\n",
    "    first = None\n",
    "    last = None\n",
    "    for c in line:\n",
    "        if c.isdigit():\n",
    "            if first is None:\n",
    "                first = int(c)\n",
    "            last = int(c)\n",
    "    summed += first * 10 + last\n",
    "summed"
   ]
  },
  {
   "cell_type": "code",
   "execution_count": 6,
   "metadata": {},
   "outputs": [],
   "source": [
    "digits = {\n",
    "    'one': 1,\n",
    "    'two': 2,\n",
    "    'three': 3,\n",
    "    'four': 4,\n",
    "    'five': 5,\n",
    "    'six': 6,\n",
    "    'seven': 7,\n",
    "    'eight': 8,\n",
    "    'nine': 9\n",
    "}"
   ]
  },
  {
   "cell_type": "code",
   "execution_count": 8,
   "metadata": {},
   "outputs": [
    {
     "data": {
      "text/plain": [
       "54676"
      ]
     },
     "execution_count": 8,
     "metadata": {},
     "output_type": "execute_result"
    }
   ],
   "source": [
    "summed = 0\n",
    "for line in data:\n",
    "    if not line:\n",
    "        continue\n",
    "    first = None\n",
    "    last = None\n",
    "    for i in range(len(line)):\n",
    "        digit = None\n",
    "        if line[i].isdigit():\n",
    "            digit = int(line[i])\n",
    "        else:\n",
    "            for digit_str, digit_int in digits.items():\n",
    "                if line[i:].startswith(digit_str):\n",
    "                    digit = digit_int\n",
    "                    break\n",
    "        if digit is not None:\n",
    "            if first is None:\n",
    "                first = digit\n",
    "            last = digit\n",
    "    summed += first * 10 + last\n",
    "summed"
   ]
  },
  {
   "cell_type": "code",
   "execution_count": null,
   "metadata": {},
   "outputs": [],
   "source": []
  }
 ],
 "metadata": {
  "kernelspec": {
   "display_name": "Python 3",
   "language": "python",
   "name": "python3"
  },
  "language_info": {
   "codemirror_mode": {
    "name": "ipython",
    "version": 3
   },
   "file_extension": ".py",
   "mimetype": "text/x-python",
   "name": "python",
   "nbconvert_exporter": "python",
   "pygments_lexer": "ipython3",
   "version": "3.12.0"
  }
 },
 "nbformat": 4,
 "nbformat_minor": 2
}
