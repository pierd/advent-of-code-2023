{
 "cells": [
  {
   "cell_type": "code",
   "execution_count": 7,
   "metadata": {},
   "outputs": [
    {
     "data": {
      "text/plain": [
       "100"
      ]
     },
     "execution_count": 7,
     "metadata": {},
     "output_type": "execute_result"
    }
   ],
   "source": [
    "def parse_game(game_str):\n",
    "    result = []\n",
    "    for round in game_str.split('; '):\n",
    "        balls = {}\n",
    "        for ball_config in round.split(', '):\n",
    "            count, _, color = ball_config.partition(' ')\n",
    "            count = int(count)\n",
    "            balls[color] = count\n",
    "        result.append(balls)\n",
    "    return result\n",
    "\n",
    "games = []\n",
    "with open('inputs/day02.txt') as f:\n",
    "    for line in f:\n",
    "        game_no_str, _, rest = line.strip().partition(': ')\n",
    "        game_no = int(game_no_str[len('Game '):])\n",
    "        game = parse_game(rest)\n",
    "        games.append(game)\n",
    "len(games)"
   ]
  },
  {
   "cell_type": "code",
   "execution_count": 5,
   "metadata": {},
   "outputs": [
    {
     "data": {
      "text/plain": [
       "2600"
      ]
     },
     "execution_count": 5,
     "metadata": {},
     "output_type": "execute_result"
    }
   ],
   "source": [
    "reqs = {\n",
    "    'red': 12,\n",
    "    'green': 13,\n",
    "    'blue': 14,\n",
    "}\n",
    "\n",
    "def is_valid_game(game):\n",
    "    for round in game:\n",
    "        for color, count in round.items():\n",
    "            if count > reqs[color]:\n",
    "                return False\n",
    "    return True\n",
    "\n",
    "summed = 0\n",
    "for i, game in enumerate(games):\n",
    "    if is_valid_game(game):\n",
    "        summed += i + 1\n",
    "summed"
   ]
  },
  {
   "cell_type": "code",
   "execution_count": 6,
   "metadata": {},
   "outputs": [
    {
     "data": {
      "text/plain": [
       "86036"
      ]
     },
     "execution_count": 6,
     "metadata": {},
     "output_type": "execute_result"
    }
   ],
   "source": [
    "import functools\n",
    "\n",
    "def min_valid(game):\n",
    "    result = {\n",
    "        'red': 0,\n",
    "        'green': 0,\n",
    "        'blue': 0,\n",
    "    }\n",
    "    for round in game:\n",
    "        for color, count in round.items():\n",
    "            result[color] = max(result[color], count)\n",
    "    return result\n",
    "\n",
    "def power(counts):\n",
    "    return functools.reduce(lambda a, b: a * b, counts.values())\n",
    "\n",
    "summed = 0\n",
    "for game in games:\n",
    "    summed += power(min_valid(game))\n",
    "summed"
   ]
  },
  {
   "cell_type": "code",
   "execution_count": null,
   "metadata": {},
   "outputs": [],
   "source": []
  }
 ],
 "metadata": {
  "kernelspec": {
   "display_name": ".venv",
   "language": "python",
   "name": "python3"
  },
  "language_info": {
   "codemirror_mode": {
    "name": "ipython",
    "version": 3
   },
   "file_extension": ".py",
   "mimetype": "text/x-python",
   "name": "python",
   "nbconvert_exporter": "python",
   "pygments_lexer": "ipython3",
   "version": "3.12.0"
  }
 },
 "nbformat": 4,
 "nbformat_minor": 2
}
